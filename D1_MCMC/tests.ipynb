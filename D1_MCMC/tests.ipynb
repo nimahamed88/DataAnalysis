{
 "cells": [
  {
   "cell_type": "code",
   "execution_count": 1,
   "id": "de0bdce0",
   "metadata": {},
   "outputs": [],
   "source": [
    "import pandas as pd\n",
    "import matplotlib.pyplot as plt\n",
    "import numpy as np\n",
    "from numpy.random import normal\n",
    "from math import ceil"
   ]
  },
  {
   "cell_type": "code",
   "execution_count": 2,
   "id": "35f68cb5",
   "metadata": {},
   "outputs": [],
   "source": [
    "data_1 = pd.read_csv('data_1.csv')"
   ]
  },
  {
   "cell_type": "code",
   "execution_count": 3,
   "id": "c39c46ce",
   "metadata": {},
   "outputs": [
    {
     "data": {
      "text/html": [
       "<div>\n",
       "<style scoped>\n",
       "    .dataframe tbody tr th:only-of-type {\n",
       "        vertical-align: middle;\n",
       "    }\n",
       "\n",
       "    .dataframe tbody tr th {\n",
       "        vertical-align: top;\n",
       "    }\n",
       "\n",
       "    .dataframe thead th {\n",
       "        text-align: right;\n",
       "    }\n",
       "</style>\n",
       "<table border=\"1\" class=\"dataframe\">\n",
       "  <thead>\n",
       "    <tr style=\"text-align: right;\">\n",
       "      <th></th>\n",
       "      <th>Frequency [MHz]</th>\n",
       "      <th>Weight</th>\n",
       "      <th>a: Tsky [K]</th>\n",
       "      <th>b: Tres1 [K]</th>\n",
       "      <th>c: Tres2 [K]</th>\n",
       "      <th>d: Tmodel [K]</th>\n",
       "      <th>e: T21 [K]</th>\n",
       "    </tr>\n",
       "  </thead>\n",
       "  <tbody>\n",
       "    <tr>\n",
       "      <th>0</th>\n",
       "      <td>50.012207</td>\n",
       "      <td>0</td>\n",
       "      <td>0.000000</td>\n",
       "      <td>0.000000</td>\n",
       "      <td>0.000000</td>\n",
       "      <td>0.000000</td>\n",
       "      <td>0.000000</td>\n",
       "    </tr>\n",
       "    <tr>\n",
       "      <th>1</th>\n",
       "      <td>50.402832</td>\n",
       "      <td>0</td>\n",
       "      <td>0.000000</td>\n",
       "      <td>0.000000</td>\n",
       "      <td>0.000000</td>\n",
       "      <td>0.000000</td>\n",
       "      <td>0.000000</td>\n",
       "    </tr>\n",
       "    <tr>\n",
       "      <th>2</th>\n",
       "      <td>50.793457</td>\n",
       "      <td>0</td>\n",
       "      <td>0.000000</td>\n",
       "      <td>0.000000</td>\n",
       "      <td>0.000000</td>\n",
       "      <td>0.000000</td>\n",
       "      <td>0.000000</td>\n",
       "    </tr>\n",
       "    <tr>\n",
       "      <th>3</th>\n",
       "      <td>51.184082</td>\n",
       "      <td>1</td>\n",
       "      <td>4645.468619</td>\n",
       "      <td>-0.034440</td>\n",
       "      <td>-0.099255</td>\n",
       "      <td>0.000000</td>\n",
       "      <td>-0.099255</td>\n",
       "    </tr>\n",
       "    <tr>\n",
       "      <th>4</th>\n",
       "      <td>51.574707</td>\n",
       "      <td>1</td>\n",
       "      <td>4556.501107</td>\n",
       "      <td>0.071895</td>\n",
       "      <td>0.021244</td>\n",
       "      <td>0.000000</td>\n",
       "      <td>0.021244</td>\n",
       "    </tr>\n",
       "    <tr>\n",
       "      <th>...</th>\n",
       "      <td>...</td>\n",
       "      <td>...</td>\n",
       "      <td>...</td>\n",
       "      <td>...</td>\n",
       "      <td>...</td>\n",
       "      <td>...</td>\n",
       "      <td>...</td>\n",
       "    </tr>\n",
       "    <tr>\n",
       "      <th>123</th>\n",
       "      <td>98.059082</td>\n",
       "      <td>1</td>\n",
       "      <td>877.642853</td>\n",
       "      <td>-0.169377</td>\n",
       "      <td>0.006739</td>\n",
       "      <td>-0.000103</td>\n",
       "      <td>0.006636</td>\n",
       "    </tr>\n",
       "    <tr>\n",
       "      <th>124</th>\n",
       "      <td>98.449707</td>\n",
       "      <td>1</td>\n",
       "      <td>868.701882</td>\n",
       "      <td>-0.181803</td>\n",
       "      <td>0.018884</td>\n",
       "      <td>-0.000068</td>\n",
       "      <td>0.018816</td>\n",
       "    </tr>\n",
       "    <tr>\n",
       "      <th>125</th>\n",
       "      <td>98.840332</td>\n",
       "      <td>1</td>\n",
       "      <td>859.822813</td>\n",
       "      <td>-0.259145</td>\n",
       "      <td>-0.033581</td>\n",
       "      <td>-0.000044</td>\n",
       "      <td>-0.033625</td>\n",
       "    </tr>\n",
       "    <tr>\n",
       "      <th>126</th>\n",
       "      <td>99.230957</td>\n",
       "      <td>0</td>\n",
       "      <td>0.000000</td>\n",
       "      <td>0.000000</td>\n",
       "      <td>0.000000</td>\n",
       "      <td>0.000000</td>\n",
       "      <td>0.000000</td>\n",
       "    </tr>\n",
       "    <tr>\n",
       "      <th>127</th>\n",
       "      <td>99.621582</td>\n",
       "      <td>0</td>\n",
       "      <td>0.000000</td>\n",
       "      <td>0.000000</td>\n",
       "      <td>0.000000</td>\n",
       "      <td>0.000000</td>\n",
       "      <td>0.000000</td>\n",
       "    </tr>\n",
       "  </tbody>\n",
       "</table>\n",
       "<p>128 rows × 7 columns</p>\n",
       "</div>"
      ],
      "text/plain": [
       "     Frequency [MHz]   Weight   a: Tsky [K]   b: Tres1 [K]   c: Tres2 [K]  \\\n",
       "0          50.012207        0      0.000000       0.000000       0.000000   \n",
       "1          50.402832        0      0.000000       0.000000       0.000000   \n",
       "2          50.793457        0      0.000000       0.000000       0.000000   \n",
       "3          51.184082        1   4645.468619      -0.034440      -0.099255   \n",
       "4          51.574707        1   4556.501107       0.071895       0.021244   \n",
       "..               ...      ...           ...            ...            ...   \n",
       "123        98.059082        1    877.642853      -0.169377       0.006739   \n",
       "124        98.449707        1    868.701882      -0.181803       0.018884   \n",
       "125        98.840332        1    859.822813      -0.259145      -0.033581   \n",
       "126        99.230957        0      0.000000       0.000000       0.000000   \n",
       "127        99.621582        0      0.000000       0.000000       0.000000   \n",
       "\n",
       "      d: Tmodel [K]   e: T21 [K]  \n",
       "0          0.000000     0.000000  \n",
       "1          0.000000     0.000000  \n",
       "2          0.000000     0.000000  \n",
       "3          0.000000    -0.099255  \n",
       "4          0.000000     0.021244  \n",
       "..              ...          ...  \n",
       "123       -0.000103     0.006636  \n",
       "124       -0.000068     0.018816  \n",
       "125       -0.000044    -0.033625  \n",
       "126        0.000000     0.000000  \n",
       "127        0.000000     0.000000  \n",
       "\n",
       "[128 rows x 7 columns]"
      ]
     },
     "execution_count": 3,
     "metadata": {},
     "output_type": "execute_result"
    }
   ],
   "source": [
    "data_1"
   ]
  },
  {
   "cell_type": "code",
   "execution_count": 6,
   "id": "92837f6e",
   "metadata": {},
   "outputs": [],
   "source": [
    "#frequency\n",
    "freq = data_1.iloc[:,0]\n",
    "\n",
    "#21cm brighness temperature\n",
    "T = data_1.iloc[:,-1]\n",
    "\n",
    "#the model represented in the paper\n",
    "model = data_1.iloc[:, -2]"
   ]
  },
  {
   "cell_type": "code",
   "execution_count": 7,
   "id": "4dd8baae",
   "metadata": {},
   "outputs": [],
   "source": [
    "def func (x, y):\n",
    "    #x is frequency\n",
    "    #y is the array of paramaters\n",
    "    #y[0]= v_0 is the center of frequency\n",
    "    #y[1]= w\n",
    "    #y[2] = tau\n",
    "    #y[3]=A\n",
    "    \n",
    "    B = (4*(x-y[0])**2)*(y[1]**(-2))*(np.log((-1/y[2])*(np.log((1+np.exp(-1*y[2]))/2))))\n",
    "    return -1 * y[3] * ((1-np.exp(-1*y[2]*np.exp(B)))/(1-np.exp(-1*y[2])))\n",
    "\n",
    "def chisquare (fobs, fexp):\n",
    "    return np.sum((fobs-fexp)**2)"
   ]
  },
  {
   "cell_type": "code",
   "execution_count": null,
   "id": "c2c9e2db",
   "metadata": {},
   "outputs": [],
   "source": [
    "#start_guess = [78, 20, 8, 0.52]\n",
    "#start_guess = [78.1284, 18.9604, 7.5532, 0.5284]\n",
    "#start_guess = [78.13705938283965, 18.714745633848647, 7.104685145649507, 0.5332120643845866]\n",
    "# start_guess = [68, 15, 10, 2]\n",
    "# start_guess = [78.13720693592548, 18.70040313450661, 7.005525905735529, 0.533713970204235]\n",
    "start_guess = [78.13720693388872 , 18.70011506660653 ,  7.001643609021194 , 0.5337301470672002  ] #as data\n",
    "nstep = 300000\n",
    "out_put= func(freq, start_guess)\n",
    "param_length=len(start_guess)\n",
    "# out_put"
   ]
  },
  {
   "cell_type": "code",
   "execution_count": null,
   "id": "c2d4df6f",
   "metadata": {},
   "outputs": [],
   "source": [
    "plt.plot(freq, T, label='EDGES Data')\n",
    "plt.plot(freq, model, label='EDGES Model')\n",
    "plt.plot(freq, out_put, label='Original Guess') # based on first_guess\n",
    "plt.xlabel('frequency(MHz)', fontsize=12)\n",
    "plt.ylabel('T(K)', fontsize=12)\n",
    "plt.legend()\n",
    "plt.savefig('p_1')\n",
    "plt.show()"
   ]
  },
  {
   "cell_type": "code",
   "execution_count": null,
   "id": "dde86aa8",
   "metadata": {},
   "outputs": [],
   "source": []
  },
  {
   "cell_type": "code",
   "execution_count": null,
   "id": "d6c63929",
   "metadata": {},
   "outputs": [],
   "source": [
    "def mcmc (max_steps, start_guess):\n",
    "    \n",
    "    #definig the chain\n",
    "    chain = np.empty((max_steps, len(start_guess)))\n",
    "    chain[0, :] = start_guess\n",
    "    \n",
    "    #defining the chi-square\n",
    "    chisq = np.empty(max_steps)\n",
    "    chisq[0] = chisquare(func(freq, start_guess), model)\n",
    "    \n",
    "    accepted_ratio = 0\n",
    "    \n",
    "    #the chain \n",
    "    for i in range(1, max_steps):\n",
    "        new_param = normal(chain[i-1], 0.0000001)\n",
    "        new_chisq = chisquare(func(freq, new_param), model)\n",
    "        \n",
    "        #If chi-square gets big, we should do another step\n",
    "        if new_chisq >= chisq[i-1]:\n",
    "            prob = np.exp(-0.5*(new_chisq-chisq[i-1]))\n",
    "            \n",
    "            #print('chi-square difference is', new_chisq-chisq[i-1])\n",
    "            x=np.random.rand()\n",
    "            \n",
    "            #print('probability is', prob)\n",
    "            #print('random number is', x)\n",
    "            \n",
    "            if x >= prob:\n",
    "                #print('higher chi-square is accepted')\n",
    "                accepted_ratio = accepted_ratio + 1\n",
    "                chisq[i] = new_chisq\n",
    "                chain[i, :] = new_param\n",
    "                \n",
    "            else:\n",
    "                #print('higher chi-square is not accepted')\n",
    "                chisq[i] = chisq[i-1]\n",
    "                chain[i, :] = chain[i-1, :]\n",
    "                \n",
    "        #if chi-square got small, we accept it        \n",
    "        else:\n",
    "            #print('lower chi-square')\n",
    "            accepted_ratio = accepted_ratio + 1\n",
    "            chisq[i] = new_chisq\n",
    "            chain[i, :] = new_param\n",
    "            \n",
    "    return chain, chisq , accepted_ratio/max_steps\n"
   ]
  },
  {
   "cell_type": "code",
   "execution_count": null,
   "id": "fc32bb43",
   "metadata": {},
   "outputs": [],
   "source": [
    "params, cs, accepted_ratio = mcmc(nstep, start_guess)"
   ]
  },
  {
   "cell_type": "code",
   "execution_count": null,
   "id": "cb43d5e1",
   "metadata": {},
   "outputs": [],
   "source": [
    "mcmc_result= np.empty(param_length)\n",
    "\n",
    "for i in range(param_length):\n",
    "    mcmc_result[i] = np.mean(params[:,i])\n",
    "    \n",
    "out_put_mcmc = func(freq, mcmc_result)\n",
    "#نقطه اخر را حساب نمیکنیم. میانگین را محاسبه میکنیم"
   ]
  },
  {
   "cell_type": "code",
   "execution_count": null,
   "id": "3343c080",
   "metadata": {},
   "outputs": [],
   "source": [
    "for i in range(param_length):\n",
    "    print(f'Parameters : a_{i}= ', mcmc_result[i])\n",
    "\n",
    "print(\"Chi squared of mcmc:\",chisquare(func(freq, mcmc_result), model))\n",
    "print(\"Chi squared of original guess:\",chisquare(func(freq,start_guess), model))\n",
    "print(\"acceptance_ratio for %d Steps: \" %nstep + repr(accepted_ratio*100) +\"%\")"
   ]
  },
  {
   "cell_type": "code",
   "execution_count": null,
   "id": "f3071259",
   "metadata": {},
   "outputs": [],
   "source": [
    "fig, ax_list = plt.subplots(ceil(param_length/2), 2, figsize=(13,10))\n",
    "fig.suptitle('Displaying The Trend of Parameters', fontsize=16)\n",
    "print(param_length)\n",
    "if((param_length % 2) == 0):\n",
    "    for i in range(ceil(param_length/2)):\n",
    "        for j in range(2):\n",
    "            #print(i)\n",
    "            #print (j)\n",
    "#             ax_list[i, j].plot(params[:, i*2+ j])\n",
    "            ax_list[i, j].semilogy(params[:, i*2+ j])\n",
    "            ax_list[i, j].set_ylabel(f'a_{i*2+ j}', fontsize=16)\n",
    "            ax_list[i, j].set_xlabel('number of steps', fontsize=12)\n",
    "\n",
    "else:\n",
    "    for i in range(ceil(param_length/2)):\n",
    "        for j in range(2):\n",
    "            if(j == 1 and i == (ceil(param_length/2)-1)):\n",
    "                break\n",
    "            #print(i)\n",
    "            #print (j)\n",
    "#             ax_list[i, j].plot(params[:, i*2+ j])\n",
    "            ax_list[i, j].semilogy(params[:, i*2+ j])\n",
    "            ax_list[i, j].set_ylabel(f'a_{i*2+ j}', fontsize=16)\n",
    "            ax_list[i, j].set_xlabel('number of steps', fontsize=12)\n",
    "            \n",
    "\n",
    "plt.tight_layout()\n",
    "plt.savefig('p_3')\n",
    "plt.show()     "
   ]
  },
  {
   "cell_type": "code",
   "execution_count": null,
   "id": "2a42ed75",
   "metadata": {},
   "outputs": [],
   "source": [
    "#Plotting the chi-square\n",
    "#plt.plot(np.log(cs))\n",
    "plt.semilogy(cs)\n",
    "plt.xlabel('number of steps', fontsize=12)\n",
    "plt.title ('Chi-Square Trend', fontsize=12)\n",
    "plt.ylabel('Log of Chi-Square', fontsize=12)\n",
    "#plt.ylim(top = 2E-9)\n",
    "plt.savefig('p_2')\n",
    "plt.show()"
   ]
  },
  {
   "cell_type": "code",
   "execution_count": null,
   "id": "5bc78a0a",
   "metadata": {},
   "outputs": [],
   "source": [
    "#Fourier Transform\n",
    "ps = np.zeros((nstep, param_length))\n",
    "for i in range(param_length):\n",
    "    ps[:, i] = np.abs(np.fft.fft(params[:, i]))**2\n",
    "    \n",
    "freqs = np.fft.rfftfreq(nstep)\n",
    "idx = np.argsort(freqs)"
   ]
  },
  {
   "cell_type": "code",
   "execution_count": null,
   "id": "3b8331ec",
   "metadata": {},
   "outputs": [],
   "source": [
    "#Plotting the Fourier Transform\n",
    "fig4, ax_list = plt.subplots(ceil(param_length/2), 2, figsize=(13,10))\n",
    "fig4.suptitle('Power Spectrum of the Chain', fontsize=16)\n",
    "if((param_length % 2) == 0):\n",
    "    for i in range(ceil(param_length/2)):\n",
    "        for j in range(2):\n",
    "            ax_list[i, j].loglog(freqs[idx], ps[idx, i*2+ j])\n",
    "            #plt.yscale(\"log\")\n",
    "            ax_list[i, j].set_ylabel(f'a_{i*2+ j}', fontsize=16)\n",
    "            ax_list[i, j].set_xlabel('frequency', fontsize=12)\n",
    "            #ax_list[i, j].set_xlim(left = 0.3)\n",
    "            #ax_list[i, j].set_ylim(top = 10)\n",
    "\n",
    "else:\n",
    "    for i in range(ceil(param_length/2)):\n",
    "        for j in range(2):\n",
    "            if(j == 1 and i == (ceil(param_length/2)-1)):\n",
    "                break\n",
    "            ax_list[i, j].loglog(freqs[idx], ps[idx, i*2+ j])\n",
    "            #plt.yscale(\"log\")\n",
    "            ax_list[i, j].set_ylabel(f'a_{i*2+ j}', fontsize=16)\n",
    "            ax_list[i, j].set_xlabel('frequency', fontsize=12)\n",
    "            #ax_list[i, j].set_ylim(0, 1E2)\n",
    "            #ax_list[i, j].set_xlim(0.2, 0.5)\n",
    "            \n",
    "plt.tight_layout()          \n",
    "plt.show()"
   ]
  },
  {
   "cell_type": "code",
   "execution_count": null,
   "id": "5f1c4e91",
   "metadata": {},
   "outputs": [],
   "source": [
    "fig2 = plt.figure()\n",
    "plt.plot(freq, T, label='EDGES Data')\n",
    "plt.plot(freq, out_put_mcmc, label=\"MCMC Output\")\n",
    "plt.plot(freq, out_put, label= \"Original Guess\")\n",
    "plt.plot(freq, model, label= 'EDGES Model')\n",
    "plt.legend()\n",
    "plt.xlabel('frequency(MHz)', fontsize=12)\n",
    "plt.ylabel('T(K)', fontsize=12)\n",
    "plt.savefig('p_4')\n",
    "#plt.ylim(top=-0.4)\n",
    "#plt.xlim(65,90)\n",
    "plt.show()"
   ]
  },
  {
   "cell_type": "code",
   "execution_count": null,
   "id": "b9ca1d54",
   "metadata": {},
   "outputs": [],
   "source": [
    "r_paper_model = out_put_mcmc - model\n",
    "r_data = out_put_mcmc - T"
   ]
  },
  {
   "cell_type": "code",
   "execution_count": null,
   "id": "48292723",
   "metadata": {},
   "outputs": [],
   "source": [
    "plt.plot(freq, r_paper_model, label= 'EDGES Model')\n",
    "plt.plot(freq, r_data, label= 'EDGES Data')\n",
    "plt.legend()\n",
    "plt.xlabel('frequency(MHz)', fontsize=12)\n",
    "plt.ylabel('T(K)', fontsize=12)\n",
    "plt.title('Residuals of MCMC Model With Respect to Data and Paper Model')\n",
    "#plt.ylim(top=-0.4)\n",
    "#plt.xlim(65,90)\n",
    "plt.savefig('p_5')\n",
    "plt.show()"
   ]
  },
  {
   "cell_type": "code",
   "execution_count": 8,
   "id": "1d18aa31",
   "metadata": {},
   "outputs": [],
   "source": [
    "#model\n",
    "params_original = [78 ,20 ,6 ,0.5]\n",
    "model = func(freq , params_original)"
   ]
  },
  {
   "cell_type": "code",
   "execution_count": 16,
   "id": "336e47f6",
   "metadata": {},
   "outputs": [],
   "source": [
    "start_guess = [78.1 , 20.1 , 6.1 , 0.51  ] #as data\n",
    "nstep = 300000\n",
    "out_put= func(freq, start_guess)\n",
    "param_length=len(start_guess)"
   ]
  },
  {
   "cell_type": "code",
   "execution_count": 17,
   "id": "4f9adb03",
   "metadata": {},
   "outputs": [
    {
     "data": {
      "image/png": "[encoded data removed]",
      "text/plain": [
       "<Figure size 432x288 with 1 Axes>"
      ]
     },
     "metadata": {
      "needs_background": "light"
     },
     "output_type": "display_data"
    }
   ],
   "source": [
    "plt.plot(freq, model, label='Model')\n",
    "plt.plot(freq, out_put, label='Original Guess') # based on first_guess\n",
    "plt.xlabel('frequency(MHz)', fontsize=12)\n",
    "plt.ylabel('T(K)', fontsize=12)\n",
    "plt.legend()\n",
    "plt.savefig('p_11')\n",
    "plt.show()"
   ]
  },
  {
   "cell_type": "code",
   "execution_count": 18,
   "id": "49bc8f25",
   "metadata": {},
   "outputs": [],
   "source": [
    "def mcmc (max_steps, start_guess):\n",
    "    \n",
    "    #definig the chain\n",
    "    chain = np.empty((max_steps, len(start_guess)))\n",
    "    chain[0, :] = start_guess\n",
    "    \n",
    "    #defining the chi-square\n",
    "    chisq = np.empty(max_steps)\n",
    "    chisq[0] = chisquare(func(freq, start_guess), model)\n",
    "    \n",
    "    accepted_ratio = 0\n",
    "    \n",
    "    #the chain \n",
    "    for i in range(1, max_steps):\n",
    "        new_param = normal(chain[i-1], 0.0000008)\n",
    "        new_chisq = chisquare(func(freq, new_param), model)\n",
    "        \n",
    "        #If chi-square gets big, we should do another step\n",
    "        if new_chisq >= chisq[i-1]:\n",
    "            prob = np.exp(-0.5*(new_chisq-chisq[i-1]))\n",
    "            \n",
    "            #print('chi-square difference is', new_chisq-chisq[i-1])\n",
    "            x=np.random.rand()\n",
    "            \n",
    "            #print('probability is', prob)\n",
    "            #print('random number is', x)\n",
    "            \n",
    "            if x >= prob:\n",
    "                #print('higher chi-square is accepted')\n",
    "                accepted_ratio = accepted_ratio + 1\n",
    "                chisq[i] = new_chisq\n",
    "                chain[i, :] = new_param\n",
    "                \n",
    "            else:\n",
    "                #print('higher chi-square is not accepted')\n",
    "                chisq[i] = chisq[i-1]\n",
    "                chain[i, :] = chain[i-1, :]\n",
    "                \n",
    "        #if chi-square got small, we accept it        \n",
    "        else:\n",
    "            #print('lower chi-square')\n",
    "            accepted_ratio = accepted_ratio + 1\n",
    "            chisq[i] = new_chisq\n",
    "            chain[i, :] = new_param\n",
    "            \n",
    "    return chain, chisq , accepted_ratio/max_steps\n"
   ]
  },
  {
   "cell_type": "code",
   "execution_count": 19,
   "id": "7911bb68",
   "metadata": {},
   "outputs": [],
   "source": [
    "params, cs, accepted_ratio = mcmc(nstep, start_guess)"
   ]
  },
  {
   "cell_type": "code",
   "execution_count": 20,
   "id": "51e853bb",
   "metadata": {},
   "outputs": [],
   "source": [
    "mcmc_result= np.empty(param_length)\n",
    "\n",
    "for i in range(param_length):\n",
    "    mcmc_result[i] = np.mean(params[:,i])\n",
    "    \n",
    "out_put_mcmc = func(freq, mcmc_result)\n",
    "#نقطه اخر را حساب نمیکنیم. میانگین را محاسبه میکنیم"
   ]
  },
  {
   "cell_type": "code",
   "execution_count": 21,
   "id": "13a9e26d",
   "metadata": {},
   "outputs": [
    {
     "name": "stdout",
     "output_type": "stream",
     "text": [
      "Parameters : a_0=  78.06326218815032\n",
      "Parameters : a_1=  20.090673608074816\n",
      "Parameters : a_2=  6.100481110944602\n",
      "Parameters : a_3=  0.499186611370586\n",
      "Chi squared of mcmc: 0.0007481897788608852\n",
      "Chi squared of original guess: 0.007556461523566562\n",
      "acceptance_ratio for 300000 Steps: 49.995666666666665%\n"
     ]
    }
   ],
   "source": [
    "for i in range(param_length):\n",
    "    print(f'Parameters : a_{i}= ', mcmc_result[i])\n",
    "\n",
    "print(\"Chi squared of mcmc:\",chisquare(func(freq, mcmc_result), model))\n",
    "print(\"Chi squared of original guess:\",chisquare(func(freq,start_guess), model))\n",
    "print(\"acceptance_ratio for %d Steps: \" %nstep + repr(accepted_ratio*100) +\"%\")"
   ]
  },
  {
   "cell_type": "code",
   "execution_count": 22,
   "id": "8fc42c00",
   "metadata": {},
   "outputs": [
    {
     "name": "stdout",
     "output_type": "stream",
     "text": [
      "4\n"
     ]
    },
    {
     "data": {
      "image/png": "[encoded data removed]",
      "text/plain": [
       "<Figure size 936x720 with 4 Axes>"
      ]
     },
     "metadata": {
      "needs_background": "light"
     },
     "output_type": "display_data"
    }
   ],
   "source": [
    "fig, ax_list = plt.subplots(ceil(param_length/2), 2, figsize=(13,10))\n",
    "fig.suptitle('Displaying The Trend of Parameters', fontsize=16)\n",
    "print(param_length)\n",
    "if((param_length % 2) == 0):\n",
    "    for i in range(ceil(param_length/2)):\n",
    "        for j in range(2):\n",
    "            #print(i)\n",
    "            #print (j)\n",
    "#             ax_list[i, j].plot(params[:, i*2+ j])\n",
    "            ax_list[i, j].semilogy(params[:, i*2+ j])\n",
    "            ax_list[i, j].set_ylabel(f'a_{i*2+ j}', fontsize=16)\n",
    "            ax_list[i, j].set_xlabel('number of steps', fontsize=12)\n",
    "\n",
    "else:\n",
    "    for i in range(ceil(param_length/2)):\n",
    "        for j in range(2):\n",
    "            if(j == 1 and i == (ceil(param_length/2)-1)):\n",
    "                break\n",
    "            #print(i)\n",
    "            #print (j)\n",
    "#             ax_list[i, j].plot(params[:, i*2+ j])\n",
    "            ax_list[i, j].semilogy(params[:, i*2+ j])\n",
    "            ax_list[i, j].set_ylabel(f'a_{i*2+ j}', fontsize=16)\n",
    "            ax_list[i, j].set_xlabel('number of steps', fontsize=12)\n",
    "            \n",
    "\n",
    "plt.tight_layout()\n",
    "plt.savefig('p_3')\n",
    "plt.show()     "
   ]
  },
  {
   "cell_type": "code",
   "execution_count": 23,
   "id": "e463fccf",
   "metadata": {},
   "outputs": [],
   "source": [
    "#Fourier Transform\n",
    "ps = np.zeros((nstep, param_length))\n",
    "for i in range(param_length):\n",
    "    ps[:, i] = np.abs(np.fft.fft(params[:, i]))**2\n",
    "    \n",
    "freqs = np.fft.rfftfreq(nstep)\n",
    "idx = np.argsort(freqs)"
   ]
  },
  {
   "cell_type": "code",
   "execution_count": null,
   "id": "58105dc7",
   "metadata": {},
   "outputs": [],
   "source": []
  }
 ],
 "metadata": {
  "kernelspec": {
   "display_name": "Python 3",
   "language": "python",
   "name": "python3"
  },
  "language_info": {
   "codemirror_mode": {
    "name": "ipython",
    "version": 3
   },
   "file_extension": ".py",
   "mimetype": "text/x-python",
   "name": "python",
   "nbconvert_exporter": "python",
   "pygments_lexer": "ipython3",
   "version": "3.8.6"
  }
 },
 "nbformat": 4,
 "nbformat_minor": 5
}
